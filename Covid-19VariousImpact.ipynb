{
 "cells": [
  {
   "cell_type": "markdown",
   "id": "49cbc862-645d-4a9d-bd69-15b101d9dd92",
   "metadata": {
    "editable": true,
    "slideshow": {
     "slide_type": ""
    },
    "tags": []
   },
   "source": [
    "## The impact of COVID-19 across various regions and demographics.\n",
    "* Nadeen Abu Hilweh\n",
    "* Data Science project"
   ]
  },
  {
   "cell_type": "markdown",
   "id": "44ac80e6-5547-46ae-a728-fed80341f726",
   "metadata": {},
   "source": [
    "#### Problem Statement:\n",
    "COVID-19 has affected people differently across regions and age groups. The available data is often messy and hard to understand. This project uses Python and data visualization to clean, analyze, and show key trends in COVID-19 data, making it easier to understand the pandemic’s impact."
   ]
  },
  {
   "cell_type": "markdown",
   "id": "7fe5db8e-b4db-42c3-89f6-01890801b358",
   "metadata": {},
   "source": [
    "#### Objective:\n",
    "To clean, analyze, and visualize COVID-19 data using Python, helping to identify trends and patterns across regions and demographics for better understanding of the pandemic’s impact."
   ]
  },
  {
   "cell_type": "code",
   "execution_count": 27,
   "id": "056aa8d0-3fb1-47c8-9a5e-cc449175724a",
   "metadata": {},
   "outputs": [],
   "source": [
    "import pandas as pd\n",
    "import matplotlib.pyplot as plt \n",
    "import seaborn as sns"
   ]
  },
  {
   "cell_type": "code",
   "execution_count": 29,
   "id": "f278b924-ee1b-4aae-a0cd-38a616f362db",
   "metadata": {},
   "outputs": [],
   "source": [
    "df=pd.read_csv('covid-19set.csv')"
   ]
  },
  {
   "cell_type": "markdown",
   "id": "25997946-6035-44ec-80f9-77ae4fa4fcc4",
   "metadata": {},
   "source": [
    "#### Data Inspection"
   ]
  },
  {
   "cell_type": "code",
   "execution_count": 32,
   "id": "eeac4e21-6332-40d4-a128-a20fde199126",
   "metadata": {},
   "outputs": [
    {
     "data": {
      "text/html": [
       "<div>\n",
       "<style scoped>\n",
       "    .dataframe tbody tr th:only-of-type {\n",
       "        vertical-align: middle;\n",
       "    }\n",
       "\n",
       "    .dataframe tbody tr th {\n",
       "        vertical-align: top;\n",
       "    }\n",
       "\n",
       "    .dataframe thead th {\n",
       "        text-align: right;\n",
       "    }\n",
       "</style>\n",
       "<table border=\"1\" class=\"dataframe\">\n",
       "  <thead>\n",
       "    <tr style=\"text-align: right;\">\n",
       "      <th></th>\n",
       "      <th>Country/Region</th>\n",
       "      <th>Confirmed</th>\n",
       "      <th>Deaths</th>\n",
       "      <th>Recovered</th>\n",
       "      <th>Active</th>\n",
       "      <th>New cases</th>\n",
       "      <th>New deaths</th>\n",
       "      <th>New recovered</th>\n",
       "      <th>Deaths / 100 Cases</th>\n",
       "      <th>Recovered / 100 Cases</th>\n",
       "      <th>Deaths / 100 Recovered</th>\n",
       "      <th>Confirmed last week</th>\n",
       "      <th>1 week change</th>\n",
       "      <th>1 week % increase</th>\n",
       "    </tr>\n",
       "  </thead>\n",
       "  <tbody>\n",
       "    <tr>\n",
       "      <th>0</th>\n",
       "      <td>Afghanistan</td>\n",
       "      <td>36263</td>\n",
       "      <td>1269.0</td>\n",
       "      <td>25198.0</td>\n",
       "      <td>9796.0</td>\n",
       "      <td>106.0</td>\n",
       "      <td>10.0</td>\n",
       "      <td>18.0</td>\n",
       "      <td>3.50</td>\n",
       "      <td>69.49</td>\n",
       "      <td>5.04</td>\n",
       "      <td>35526</td>\n",
       "      <td>737.0</td>\n",
       "      <td>2.07</td>\n",
       "    </tr>\n",
       "    <tr>\n",
       "      <th>1</th>\n",
       "      <td>Albania</td>\n",
       "      <td>4880</td>\n",
       "      <td>144.0</td>\n",
       "      <td>2745.0</td>\n",
       "      <td>1991.0</td>\n",
       "      <td>117.0</td>\n",
       "      <td>6.0</td>\n",
       "      <td>63.0</td>\n",
       "      <td>2.95</td>\n",
       "      <td>56.25</td>\n",
       "      <td>5.25</td>\n",
       "      <td>4171</td>\n",
       "      <td>709.0</td>\n",
       "      <td>17.00</td>\n",
       "    </tr>\n",
       "    <tr>\n",
       "      <th>2</th>\n",
       "      <td>Algeria</td>\n",
       "      <td>27973</td>\n",
       "      <td>1163.0</td>\n",
       "      <td>18837.0</td>\n",
       "      <td>7973.0</td>\n",
       "      <td>616.0</td>\n",
       "      <td>8.0</td>\n",
       "      <td>749.0</td>\n",
       "      <td>4.16</td>\n",
       "      <td>67.34</td>\n",
       "      <td>6.17</td>\n",
       "      <td>23691</td>\n",
       "      <td>4282.0</td>\n",
       "      <td>18.07</td>\n",
       "    </tr>\n",
       "    <tr>\n",
       "      <th>3</th>\n",
       "      <td>Andorra</td>\n",
       "      <td>907</td>\n",
       "      <td>52.0</td>\n",
       "      <td>803.0</td>\n",
       "      <td>52.0</td>\n",
       "      <td>10.0</td>\n",
       "      <td>NaN</td>\n",
       "      <td>NaN</td>\n",
       "      <td>5.73</td>\n",
       "      <td>88.53</td>\n",
       "      <td>6.48</td>\n",
       "      <td>884</td>\n",
       "      <td>23.0</td>\n",
       "      <td>2.60</td>\n",
       "    </tr>\n",
       "    <tr>\n",
       "      <th>4</th>\n",
       "      <td>Angola</td>\n",
       "      <td>950</td>\n",
       "      <td>41.0</td>\n",
       "      <td>242.0</td>\n",
       "      <td>667.0</td>\n",
       "      <td>18.0</td>\n",
       "      <td>1.0</td>\n",
       "      <td>NaN</td>\n",
       "      <td>4.32</td>\n",
       "      <td>25.47</td>\n",
       "      <td>16.94</td>\n",
       "      <td>749</td>\n",
       "      <td>201.0</td>\n",
       "      <td>26.84</td>\n",
       "    </tr>\n",
       "  </tbody>\n",
       "</table>\n",
       "</div>"
      ],
      "text/plain": [
       "  Country/Region  Confirmed  Deaths  Recovered  Active  New cases  New deaths  \\\n",
       "0    Afghanistan      36263  1269.0    25198.0  9796.0      106.0        10.0   \n",
       "1        Albania       4880   144.0     2745.0  1991.0      117.0         6.0   \n",
       "2        Algeria      27973  1163.0    18837.0  7973.0      616.0         8.0   \n",
       "3        Andorra        907    52.0      803.0    52.0       10.0         NaN   \n",
       "4         Angola        950    41.0      242.0   667.0       18.0         1.0   \n",
       "\n",
       "   New recovered  Deaths / 100 Cases  Recovered / 100 Cases  \\\n",
       "0           18.0                3.50                  69.49   \n",
       "1           63.0                2.95                  56.25   \n",
       "2          749.0                4.16                  67.34   \n",
       "3            NaN                5.73                  88.53   \n",
       "4            NaN                4.32                  25.47   \n",
       "\n",
       "   Deaths / 100 Recovered  Confirmed last week  1 week change  \\\n",
       "0                    5.04                35526          737.0   \n",
       "1                    5.25                 4171          709.0   \n",
       "2                    6.17                23691         4282.0   \n",
       "3                    6.48                  884           23.0   \n",
       "4                   16.94                  749          201.0   \n",
       "\n",
       "   1 week % increase  \n",
       "0               2.07  \n",
       "1              17.00  \n",
       "2              18.07  \n",
       "3               2.60  \n",
       "4              26.84  "
      ]
     },
     "execution_count": 32,
     "metadata": {},
     "output_type": "execute_result"
    }
   ],
   "source": [
    "df.head() #Inspecting the first few rows of the DataFrame"
   ]
  },
  {
   "cell_type": "code",
   "execution_count": 34,
   "id": "bab6130d-fd4e-44a6-b959-146811d811f7",
   "metadata": {},
   "outputs": [
    {
     "data": {
      "text/html": [
       "<div>\n",
       "<style scoped>\n",
       "    .dataframe tbody tr th:only-of-type {\n",
       "        vertical-align: middle;\n",
       "    }\n",
       "\n",
       "    .dataframe tbody tr th {\n",
       "        vertical-align: top;\n",
       "    }\n",
       "\n",
       "    .dataframe thead th {\n",
       "        text-align: right;\n",
       "    }\n",
       "</style>\n",
       "<table border=\"1\" class=\"dataframe\">\n",
       "  <thead>\n",
       "    <tr style=\"text-align: right;\">\n",
       "      <th></th>\n",
       "      <th>Country/Region</th>\n",
       "      <th>Confirmed</th>\n",
       "      <th>Deaths</th>\n",
       "      <th>Recovered</th>\n",
       "      <th>Active</th>\n",
       "      <th>New cases</th>\n",
       "      <th>New deaths</th>\n",
       "      <th>New recovered</th>\n",
       "      <th>Deaths / 100 Cases</th>\n",
       "      <th>Recovered / 100 Cases</th>\n",
       "      <th>Deaths / 100 Recovered</th>\n",
       "      <th>Confirmed last week</th>\n",
       "      <th>1 week change</th>\n",
       "      <th>1 week % increase</th>\n",
       "    </tr>\n",
       "  </thead>\n",
       "  <tbody>\n",
       "    <tr>\n",
       "      <th>181</th>\n",
       "      <td>Vietnam</td>\n",
       "      <td>431</td>\n",
       "      <td>NaN</td>\n",
       "      <td>365.0</td>\n",
       "      <td>66.0</td>\n",
       "      <td>11.0</td>\n",
       "      <td>NaN</td>\n",
       "      <td>NaN</td>\n",
       "      <td>NaN</td>\n",
       "      <td>84.69</td>\n",
       "      <td>NaN</td>\n",
       "      <td>384</td>\n",
       "      <td>47.0</td>\n",
       "      <td>12.24</td>\n",
       "    </tr>\n",
       "    <tr>\n",
       "      <th>182</th>\n",
       "      <td>West Bank and Gaza</td>\n",
       "      <td>10621</td>\n",
       "      <td>78.0</td>\n",
       "      <td>3752.0</td>\n",
       "      <td>6791.0</td>\n",
       "      <td>152.0</td>\n",
       "      <td>2.0</td>\n",
       "      <td>NaN</td>\n",
       "      <td>0.73</td>\n",
       "      <td>35.33</td>\n",
       "      <td>2.08</td>\n",
       "      <td>8916</td>\n",
       "      <td>1705.0</td>\n",
       "      <td>19.12</td>\n",
       "    </tr>\n",
       "    <tr>\n",
       "      <th>183</th>\n",
       "      <td>Western Sahara</td>\n",
       "      <td>10</td>\n",
       "      <td>1.0</td>\n",
       "      <td>8.0</td>\n",
       "      <td>1.0</td>\n",
       "      <td>NaN</td>\n",
       "      <td>NaN</td>\n",
       "      <td>NaN</td>\n",
       "      <td>10.00</td>\n",
       "      <td>80.00</td>\n",
       "      <td>12.50</td>\n",
       "      <td>10</td>\n",
       "      <td>NaN</td>\n",
       "      <td>NaN</td>\n",
       "    </tr>\n",
       "    <tr>\n",
       "      <th>184</th>\n",
       "      <td>Yemen</td>\n",
       "      <td>1691</td>\n",
       "      <td>483.0</td>\n",
       "      <td>833.0</td>\n",
       "      <td>375.0</td>\n",
       "      <td>10.0</td>\n",
       "      <td>4.0</td>\n",
       "      <td>36.0</td>\n",
       "      <td>28.56</td>\n",
       "      <td>49.26</td>\n",
       "      <td>57.98</td>\n",
       "      <td>1619</td>\n",
       "      <td>72.0</td>\n",
       "      <td>4.45</td>\n",
       "    </tr>\n",
       "    <tr>\n",
       "      <th>185</th>\n",
       "      <td>Zambia</td>\n",
       "      <td>4552</td>\n",
       "      <td>140.0</td>\n",
       "      <td>2815.0</td>\n",
       "      <td>1597.0</td>\n",
       "      <td>71.0</td>\n",
       "      <td>1.0</td>\n",
       "      <td>465.0</td>\n",
       "      <td>3.08</td>\n",
       "      <td>61.84</td>\n",
       "      <td>4.97</td>\n",
       "      <td>3326</td>\n",
       "      <td>1226.0</td>\n",
       "      <td>36.86</td>\n",
       "    </tr>\n",
       "  </tbody>\n",
       "</table>\n",
       "</div>"
      ],
      "text/plain": [
       "         Country/Region  Confirmed  Deaths  Recovered  Active  New cases  \\\n",
       "181             Vietnam        431     NaN      365.0    66.0       11.0   \n",
       "182  West Bank and Gaza      10621    78.0     3752.0  6791.0      152.0   \n",
       "183      Western Sahara         10     1.0        8.0     1.0        NaN   \n",
       "184               Yemen       1691   483.0      833.0   375.0       10.0   \n",
       "185              Zambia       4552   140.0     2815.0  1597.0       71.0   \n",
       "\n",
       "     New deaths  New recovered  Deaths / 100 Cases  Recovered / 100 Cases  \\\n",
       "181         NaN            NaN                 NaN                  84.69   \n",
       "182         2.0            NaN                0.73                  35.33   \n",
       "183         NaN            NaN               10.00                  80.00   \n",
       "184         4.0           36.0               28.56                  49.26   \n",
       "185         1.0          465.0                3.08                  61.84   \n",
       "\n",
       "     Deaths / 100 Recovered  Confirmed last week  1 week change  \\\n",
       "181                     NaN                  384           47.0   \n",
       "182                    2.08                 8916         1705.0   \n",
       "183                   12.50                   10            NaN   \n",
       "184                   57.98                 1619           72.0   \n",
       "185                    4.97                 3326         1226.0   \n",
       "\n",
       "     1 week % increase  \n",
       "181              12.24  \n",
       "182              19.12  \n",
       "183                NaN  \n",
       "184               4.45  \n",
       "185              36.86  "
      ]
     },
     "execution_count": 34,
     "metadata": {},
     "output_type": "execute_result"
    }
   ],
   "source": [
    "df.tail() #Inspecting the last few rows of the DataFrame"
   ]
  },
  {
   "cell_type": "markdown",
   "id": "c6ddf913-c9ca-44f7-af2a-ec27c6fc1499",
   "metadata": {},
   "source": [
    "#### Data Informations:"
   ]
  },
  {
   "cell_type": "code",
   "execution_count": 37,
   "id": "3ac4e850-0bc2-42d0-a6f6-b98406c7db77",
   "metadata": {},
   "outputs": [
    {
     "name": "stdout",
     "output_type": "stream",
     "text": [
      "<class 'pandas.core.frame.DataFrame'>\n",
      "RangeIndex: 186 entries, 0 to 185\n",
      "Data columns (total 14 columns):\n",
      " #   Column                  Non-Null Count  Dtype  \n",
      "---  ------                  --------------  -----  \n",
      " 0   Country/Region          186 non-null    object \n",
      " 1   Confirmed               186 non-null    int64  \n",
      " 2   Deaths                  182 non-null    float64\n",
      " 3   Recovered               182 non-null    float64\n",
      " 4   Active                  185 non-null    float64\n",
      " 5   New cases               177 non-null    float64\n",
      " 6   New deaths              160 non-null    float64\n",
      " 7   New recovered           167 non-null    float64\n",
      " 8   Deaths / 100 Cases      183 non-null    float64\n",
      " 9   Recovered / 100 Cases   183 non-null    float64\n",
      " 10  Deaths / 100 Recovered  181 non-null    float64\n",
      " 11  Confirmed last week     186 non-null    int64  \n",
      " 12  1 week change           182 non-null    float64\n",
      " 13  1 week % increase       182 non-null    float64\n",
      "dtypes: float64(11), int64(2), object(1)\n",
      "memory usage: 20.5+ KB\n"
     ]
    }
   ],
   "source": [
    "df.info()"
   ]
  },
  {
   "cell_type": "code",
   "execution_count": 39,
   "id": "cae3872d-a289-4e39-8f00-aaa03420e16a",
   "metadata": {},
   "outputs": [
    {
     "data": {
      "text/plain": [
       "(186, 14)"
      ]
     },
     "execution_count": 39,
     "metadata": {},
     "output_type": "execute_result"
    }
   ],
   "source": [
    "df.shape"
   ]
  },
  {
   "cell_type": "markdown",
   "id": "795769d4-5752-4979-b61f-299689ae008e",
   "metadata": {},
   "source": [
    "#### Handling Missing Values "
   ]
  },
  {
   "cell_type": "code",
   "execution_count": 41,
   "id": "246edddc-3086-44be-8860-c13e5e045695",
   "metadata": {},
   "outputs": [
    {
     "name": "stdout",
     "output_type": "stream",
     "text": [
      "Country/Region             0\n",
      "Confirmed                  0\n",
      "Deaths                     4\n",
      "Recovered                  4\n",
      "Active                     1\n",
      "New cases                  9\n",
      "New deaths                26\n",
      "New recovered             19\n",
      "Deaths / 100 Cases         3\n",
      "Recovered / 100 Cases      3\n",
      "Deaths / 100 Recovered     5\n",
      "Confirmed last week        0\n",
      "1 week change              4\n",
      "1 week % increase          4\n",
      "dtype: int64\n"
     ]
    }
   ],
   "source": [
    "missing_values = df.isnull().sum()\n",
    "print(missing_values)"
   ]
  },
  {
   "cell_type": "code",
   "execution_count": 61,
   "id": "825632fd-eaaa-4147-a589-2da18d1b7174",
   "metadata": {},
   "outputs": [
    {
     "name": "stdout",
     "output_type": "stream",
     "text": [
      "Country/Region            0\n",
      "Confirmed                 0\n",
      "Deaths                    0\n",
      "Recovered                 0\n",
      "Active                    0\n",
      "New cases                 0\n",
      "New deaths                0\n",
      "New recovered             0\n",
      "Deaths / 100 Cases        3\n",
      "Recovered / 100 Cases     3\n",
      "Deaths / 100 Recovered    5\n",
      "Confirmed last week       0\n",
      "1 week change             4\n",
      "1 week % increase         4\n",
      "dtype: int64\n"
     ]
    }
   ],
   "source": [
    "# Filled missing values with 0 because the dataset is a snapshot for each country,\n",
    "# and there is no previous data to perform a forward fill.\n",
    "df['Deaths'] = df['Deaths'].fillna(0)\n",
    "df['Recovered'] = df['Recovered'].fillna(0)\n",
    "df['New cases'] = df['New cases'].fillna(0)\n",
    "df['New deaths'] = df['New deaths'].fillna(0)\n",
    "df['New recovered'] = df['New recovered'].fillna(0)\n",
    "\n",
    "print(df.isnull().sum())"
   ]
  },
  {
   "cell_type": "code",
   "execution_count": 63,
   "id": "1a55b585-68b8-4f70-b17d-8e15991731ce",
   "metadata": {},
   "outputs": [],
   "source": [
    "# Calculate active cases by subtracting deaths and recovered from confirmed cases.\n",
    "# This ensures consistency, especially for rows where active cases were missing.\n",
    "df['Active'] = df['Confirmed'] - df['Deaths'] - df['Recovered']"
   ]
  },
  {
   "cell_type": "code",
   "execution_count": 65,
   "id": "dfec7f91-686f-4823-89ab-3abf039627cb",
   "metadata": {},
   "outputs": [
    {
     "name": "stdout",
     "output_type": "stream",
     "text": [
      "Country/Region            0\n",
      "Confirmed                 0\n",
      "Deaths                    0\n",
      "Recovered                 0\n",
      "Active                    0\n",
      "New cases                 0\n",
      "New deaths                0\n",
      "New recovered             0\n",
      "Deaths / 100 Cases        3\n",
      "Recovered / 100 Cases     3\n",
      "Deaths / 100 Recovered    5\n",
      "Confirmed last week       0\n",
      "1 week change             4\n",
      "1 week % increase         4\n",
      "dtype: int64\n"
     ]
    }
   ],
   "source": [
    "print(df.isnull().sum())"
   ]
  },
  {
   "cell_type": "code",
   "execution_count": 73,
   "id": "0fc5ae57-10af-4986-8807-134ee302d674",
   "metadata": {},
   "outputs": [],
   "source": [
    "# Calculate the death rate as a percentage of confirmed cases.\n",
    "# This replaces any missing values and standardizes the metric across all countries.\n",
    "df['Deaths / 100 Cases'] = (df['Deaths'] / df['Confirmed']) * 100"
   ]
  },
  {
   "cell_type": "code",
   "execution_count": 75,
   "id": "dce92bf4-2b28-4c76-9b91-eff0368bee66",
   "metadata": {},
   "outputs": [
    {
     "name": "stdout",
     "output_type": "stream",
     "text": [
      "Country/Region            0\n",
      "Confirmed                 0\n",
      "Deaths                    0\n",
      "Recovered                 0\n",
      "Active                    0\n",
      "New cases                 0\n",
      "New deaths                0\n",
      "New recovered             0\n",
      "Deaths / 100 Cases        0\n",
      "Recovered / 100 Cases     3\n",
      "Deaths / 100 Recovered    5\n",
      "Confirmed last week       0\n",
      "1 week change             4\n",
      "1 week % increase         4\n",
      "dtype: int64\n"
     ]
    }
   ],
   "source": [
    "print(df.isnull().sum())"
   ]
  },
  {
   "cell_type": "code",
   "execution_count": 101,
   "id": "c8d9f1ae-b98d-445b-8252-2e6560c4a655",
   "metadata": {},
   "outputs": [],
   "source": [
    "# Calculate the recovery rate as a percentage of confirmed cases.\n",
    "# This standardizes the metric across all countries and handles missing values.\n",
    "df['Recovered / 100 Cases'] = (df['Recovered'] / df['Confirmed']) * 100"
   ]
  },
  {
   "cell_type": "code",
   "execution_count": 103,
   "id": "e09bd4b5-2c5c-4d12-9cf0-d37c8dd13bc0",
   "metadata": {},
   "outputs": [
    {
     "name": "stdout",
     "output_type": "stream",
     "text": [
      "Country/Region            0\n",
      "Confirmed                 0\n",
      "Deaths                    0\n",
      "Recovered                 0\n",
      "Active                    0\n",
      "New cases                 0\n",
      "New deaths                0\n",
      "New recovered             0\n",
      "Deaths / 100 Cases        0\n",
      "Recovered / 100 Cases     0\n",
      "Deaths / 100 Recovered    6\n",
      "Confirmed last week       0\n",
      "1 week change             0\n",
      "1 week % increase         0\n",
      "dtype: int64\n"
     ]
    }
   ],
   "source": [
    "print(df.isnull().sum())"
   ]
  },
  {
   "cell_type": "code",
   "execution_count": 109,
   "id": "4d7e722a-671c-45a0-8a23-c4c688650225",
   "metadata": {},
   "outputs": [],
   "source": [
    "# Calculating deaths per 100 recovered.\n",
    "# Some values are NaN because Recovered = 0 in those rows, so division by zero is undefined.\n",
    "df['Deaths / 100 Recovered'] = (df['Deaths'] / df['Recovered'].replace(0, pd.NA)) * 100"
   ]
  },
  {
   "cell_type": "code",
   "execution_count": 111,
   "id": "323452be-1c65-49fa-ac22-70d424670814",
   "metadata": {},
   "outputs": [
    {
     "name": "stdout",
     "output_type": "stream",
     "text": [
      "Country/Region            0\n",
      "Confirmed                 0\n",
      "Deaths                    0\n",
      "Recovered                 0\n",
      "Active                    0\n",
      "New cases                 0\n",
      "New deaths                0\n",
      "New recovered             0\n",
      "Deaths / 100 Cases        0\n",
      "Recovered / 100 Cases     0\n",
      "Deaths / 100 Recovered    6\n",
      "Confirmed last week       0\n",
      "1 week change             0\n",
      "1 week % increase         0\n",
      "dtype: int64\n"
     ]
    }
   ],
   "source": [
    "print(df.isnull().sum())"
   ]
  },
  {
   "cell_type": "code",
   "execution_count": 85,
   "id": "f62d390c-1b2e-43a4-ae57-553b15210c84",
   "metadata": {},
   "outputs": [],
   "source": [
    "# Calculate the change in confirmed cases compared to last week.\n",
    "df['1 week change'] = df['Confirmed'] - df['Confirmed last week']"
   ]
  },
  {
   "cell_type": "code",
   "execution_count": 87,
   "id": "480bbfd0-9d87-415b-8aa4-a1ecda6613ea",
   "metadata": {},
   "outputs": [
    {
     "name": "stdout",
     "output_type": "stream",
     "text": [
      "Country/Region            0\n",
      "Confirmed                 0\n",
      "Deaths                    0\n",
      "Recovered                 0\n",
      "Active                    0\n",
      "New cases                 0\n",
      "New deaths                0\n",
      "New recovered             0\n",
      "Deaths / 100 Cases        0\n",
      "Recovered / 100 Cases     0\n",
      "Deaths / 100 Recovered    6\n",
      "Confirmed last week       0\n",
      "1 week change             0\n",
      "1 week % increase         4\n",
      "dtype: int64\n"
     ]
    }
   ],
   "source": [
    "print(df.isnull().sum())"
   ]
  },
  {
   "cell_type": "code",
   "execution_count": 97,
   "id": "59a5e5e9-c33d-4a1a-b984-445415ff40f0",
   "metadata": {},
   "outputs": [],
   "source": [
    "# Calculate the percentage increase in confirmed cases compared to last week.\n",
    "df['1 week % increase'] = (df['1 week change'] / df['Confirmed last week']) * 100"
   ]
  },
  {
   "cell_type": "code",
   "execution_count": 99,
   "id": "74978f97-98cf-46b5-8593-af34fca52194",
   "metadata": {},
   "outputs": [
    {
     "name": "stdout",
     "output_type": "stream",
     "text": [
      "Country/Region            0\n",
      "Confirmed                 0\n",
      "Deaths                    0\n",
      "Recovered                 0\n",
      "Active                    0\n",
      "New cases                 0\n",
      "New deaths                0\n",
      "New recovered             0\n",
      "Deaths / 100 Cases        0\n",
      "Recovered / 100 Cases     0\n",
      "Deaths / 100 Recovered    6\n",
      "Confirmed last week       0\n",
      "1 week change             0\n",
      "1 week % increase         0\n",
      "dtype: int64\n"
     ]
    }
   ],
   "source": [
    "print(df.isnull().sum())"
   ]
  },
  {
   "cell_type": "markdown",
   "id": "18672fb5-fe2f-41a1-9997-44f2fabc24a7",
   "metadata": {},
   "source": [
    "#### Data Cleaning\n"
   ]
  },
  {
   "cell_type": "code",
   "execution_count": 114,
   "id": "b4e9aed0-6cc7-4fdc-93dc-84304a0683c7",
   "metadata": {},
   "outputs": [],
   "source": [
    "Duplicates_value= df.drop_duplicates() # Remove duplicate rows to ensure each record is unique"
   ]
  },
  {
   "cell_type": "markdown",
   "id": "bc33c762-7892-423b-b0e4-fb3ea74b94b8",
   "metadata": {},
   "source": [
    "#### Data description"
   ]
  },
  {
   "cell_type": "code",
   "execution_count": 117,
   "id": "fa0f7f5a-7716-4f98-a90d-d8bdfcb2c881",
   "metadata": {},
   "outputs": [
    {
     "data": {
      "text/html": [
       "<div>\n",
       "<style scoped>\n",
       "    .dataframe tbody tr th:only-of-type {\n",
       "        vertical-align: middle;\n",
       "    }\n",
       "\n",
       "    .dataframe tbody tr th {\n",
       "        vertical-align: top;\n",
       "    }\n",
       "\n",
       "    .dataframe thead th {\n",
       "        text-align: right;\n",
       "    }\n",
       "</style>\n",
       "<table border=\"1\" class=\"dataframe\">\n",
       "  <thead>\n",
       "    <tr style=\"text-align: right;\">\n",
       "      <th></th>\n",
       "      <th>Confirmed</th>\n",
       "      <th>Deaths</th>\n",
       "      <th>Recovered</th>\n",
       "      <th>Active</th>\n",
       "      <th>New cases</th>\n",
       "      <th>New deaths</th>\n",
       "      <th>New recovered</th>\n",
       "      <th>Deaths / 100 Cases</th>\n",
       "      <th>Recovered / 100 Cases</th>\n",
       "      <th>Confirmed last week</th>\n",
       "      <th>1 week change</th>\n",
       "      <th>1 week % increase</th>\n",
       "    </tr>\n",
       "  </thead>\n",
       "  <tbody>\n",
       "    <tr>\n",
       "      <th>count</th>\n",
       "      <td>1.860000e+02</td>\n",
       "      <td>186.000000</td>\n",
       "      <td>1.860000e+02</td>\n",
       "      <td>1.860000e+02</td>\n",
       "      <td>186.000000</td>\n",
       "      <td>186.000000</td>\n",
       "      <td>186.000000</td>\n",
       "      <td>186.000000</td>\n",
       "      <td>186.000000</td>\n",
       "      <td>1.860000e+02</td>\n",
       "      <td>186.000000</td>\n",
       "      <td>186.000000</td>\n",
       "    </tr>\n",
       "    <tr>\n",
       "      <th>mean</th>\n",
       "      <td>8.859022e+04</td>\n",
       "      <td>3516.129032</td>\n",
       "      <td>5.090078e+04</td>\n",
       "      <td>3.417331e+04</td>\n",
       "      <td>1228.500000</td>\n",
       "      <td>29.102151</td>\n",
       "      <td>938.704301</td>\n",
       "      <td>3.028392</td>\n",
       "      <td>65.061068</td>\n",
       "      <td>7.909629e+04</td>\n",
       "      <td>9493.930108</td>\n",
       "      <td>13.368185</td>\n",
       "    </tr>\n",
       "    <tr>\n",
       "      <th>std</th>\n",
       "      <td>3.843017e+05</td>\n",
       "      <td>14135.756175</td>\n",
       "      <td>1.906658e+05</td>\n",
       "      <td>2.138890e+05</td>\n",
       "      <td>5725.283016</td>\n",
       "      <td>120.344754</td>\n",
       "      <td>4208.515123</td>\n",
       "      <td>3.461477</td>\n",
       "      <td>26.151221</td>\n",
       "      <td>3.391392e+05</td>\n",
       "      <td>47615.227387</td>\n",
       "      <td>24.358579</td>\n",
       "    </tr>\n",
       "    <tr>\n",
       "      <th>min</th>\n",
       "      <td>1.000000e+01</td>\n",
       "      <td>0.000000</td>\n",
       "      <td>0.000000e+00</td>\n",
       "      <td>0.000000e+00</td>\n",
       "      <td>0.000000</td>\n",
       "      <td>0.000000</td>\n",
       "      <td>0.000000</td>\n",
       "      <td>0.000000</td>\n",
       "      <td>0.000000</td>\n",
       "      <td>1.000000e+01</td>\n",
       "      <td>-47.000000</td>\n",
       "      <td>-3.843009</td>\n",
       "    </tr>\n",
       "    <tr>\n",
       "      <th>25%</th>\n",
       "      <td>1.107000e+03</td>\n",
       "      <td>18.250000</td>\n",
       "      <td>6.487500e+02</td>\n",
       "      <td>1.407500e+02</td>\n",
       "      <td>4.000000</td>\n",
       "      <td>0.000000</td>\n",
       "      <td>0.000000</td>\n",
       "      <td>0.940589</td>\n",
       "      <td>49.689629</td>\n",
       "      <td>1.045250e+03</td>\n",
       "      <td>48.000000</td>\n",
       "      <td>2.760715</td>\n",
       "    </tr>\n",
       "    <tr>\n",
       "      <th>50%</th>\n",
       "      <td>5.633500e+03</td>\n",
       "      <td>110.000000</td>\n",
       "      <td>2.860000e+03</td>\n",
       "      <td>1.599500e+03</td>\n",
       "      <td>49.000000</td>\n",
       "      <td>1.000000</td>\n",
       "      <td>20.500000</td>\n",
       "      <td>2.152106</td>\n",
       "      <td>71.473110</td>\n",
       "      <td>5.329500e+03</td>\n",
       "      <td>418.000000</td>\n",
       "      <td>6.889800</td>\n",
       "    </tr>\n",
       "    <tr>\n",
       "      <th>75%</th>\n",
       "      <td>4.082025e+04</td>\n",
       "      <td>741.000000</td>\n",
       "      <td>2.292400e+04</td>\n",
       "      <td>9.281500e+03</td>\n",
       "      <td>419.750000</td>\n",
       "      <td>6.000000</td>\n",
       "      <td>222.000000</td>\n",
       "      <td>3.880377</td>\n",
       "      <td>86.892270</td>\n",
       "      <td>3.715275e+04</td>\n",
       "      <td>3248.500000</td>\n",
       "      <td>16.545753</td>\n",
       "    </tr>\n",
       "    <tr>\n",
       "      <th>max</th>\n",
       "      <td>4.290259e+06</td>\n",
       "      <td>148011.000000</td>\n",
       "      <td>1.846641e+06</td>\n",
       "      <td>2.816444e+06</td>\n",
       "      <td>56336.000000</td>\n",
       "      <td>1076.000000</td>\n",
       "      <td>33728.000000</td>\n",
       "      <td>28.562980</td>\n",
       "      <td>100.000000</td>\n",
       "      <td>3.834677e+06</td>\n",
       "      <td>455582.000000</td>\n",
       "      <td>226.315789</td>\n",
       "    </tr>\n",
       "  </tbody>\n",
       "</table>\n",
       "</div>"
      ],
      "text/plain": [
       "          Confirmed         Deaths     Recovered        Active     New cases  \\\n",
       "count  1.860000e+02     186.000000  1.860000e+02  1.860000e+02    186.000000   \n",
       "mean   8.859022e+04    3516.129032  5.090078e+04  3.417331e+04   1228.500000   \n",
       "std    3.843017e+05   14135.756175  1.906658e+05  2.138890e+05   5725.283016   \n",
       "min    1.000000e+01       0.000000  0.000000e+00  0.000000e+00      0.000000   \n",
       "25%    1.107000e+03      18.250000  6.487500e+02  1.407500e+02      4.000000   \n",
       "50%    5.633500e+03     110.000000  2.860000e+03  1.599500e+03     49.000000   \n",
       "75%    4.082025e+04     741.000000  2.292400e+04  9.281500e+03    419.750000   \n",
       "max    4.290259e+06  148011.000000  1.846641e+06  2.816444e+06  56336.000000   \n",
       "\n",
       "        New deaths  New recovered  Deaths / 100 Cases  Recovered / 100 Cases  \\\n",
       "count   186.000000     186.000000          186.000000             186.000000   \n",
       "mean     29.102151     938.704301            3.028392              65.061068   \n",
       "std     120.344754    4208.515123            3.461477              26.151221   \n",
       "min       0.000000       0.000000            0.000000               0.000000   \n",
       "25%       0.000000       0.000000            0.940589              49.689629   \n",
       "50%       1.000000      20.500000            2.152106              71.473110   \n",
       "75%       6.000000     222.000000            3.880377              86.892270   \n",
       "max    1076.000000   33728.000000           28.562980             100.000000   \n",
       "\n",
       "       Confirmed last week  1 week change  1 week % increase  \n",
       "count         1.860000e+02     186.000000         186.000000  \n",
       "mean          7.909629e+04    9493.930108          13.368185  \n",
       "std           3.391392e+05   47615.227387          24.358579  \n",
       "min           1.000000e+01     -47.000000          -3.843009  \n",
       "25%           1.045250e+03      48.000000           2.760715  \n",
       "50%           5.329500e+03     418.000000           6.889800  \n",
       "75%           3.715275e+04    3248.500000          16.545753  \n",
       "max           3.834677e+06  455582.000000         226.315789  "
      ]
     },
     "execution_count": 117,
     "metadata": {},
     "output_type": "execute_result"
    }
   ],
   "source": [
    "#Displaying descriptive statistics of the DataFrame\n",
    "df.describe()"
   ]
  },
  {
   "cell_type": "markdown",
   "id": "8a53268a-4b60-4ff1-982a-ac2ff3b069c7",
   "metadata": {},
   "source": [
    "#### Plots"
   ]
  },
  {
   "cell_type": "code",
   "execution_count": 123,
   "id": "c0454403-a5c8-4bab-9f66-a0b0d3c9a62c",
   "metadata": {},
   "outputs": [],
   "source": [
    "##useing groupby to collect data\n",
    "region_deaths = df.groupby('Country/Region')['Deaths'].sum().reset_index()"
   ]
  },
  {
   "cell_type": "code",
   "execution_count": 125,
   "id": "69a29233-9872-4648-8860-b0b985653ba1",
   "metadata": {},
   "outputs": [
    {
     "data": {
      "text/html": [
       "<div>\n",
       "<style scoped>\n",
       "    .dataframe tbody tr th:only-of-type {\n",
       "        vertical-align: middle;\n",
       "    }\n",
       "\n",
       "    .dataframe tbody tr th {\n",
       "        vertical-align: top;\n",
       "    }\n",
       "\n",
       "    .dataframe thead th {\n",
       "        text-align: right;\n",
       "    }\n",
       "</style>\n",
       "<table border=\"1\" class=\"dataframe\">\n",
       "  <thead>\n",
       "    <tr style=\"text-align: right;\">\n",
       "      <th></th>\n",
       "      <th>Country/Region</th>\n",
       "      <th>Deaths</th>\n",
       "    </tr>\n",
       "  </thead>\n",
       "  <tbody>\n",
       "    <tr>\n",
       "      <th>0</th>\n",
       "      <td>Afghanistan</td>\n",
       "      <td>1269.0</td>\n",
       "    </tr>\n",
       "    <tr>\n",
       "      <th>1</th>\n",
       "      <td>Albania</td>\n",
       "      <td>144.0</td>\n",
       "    </tr>\n",
       "    <tr>\n",
       "      <th>2</th>\n",
       "      <td>Algeria</td>\n",
       "      <td>1163.0</td>\n",
       "    </tr>\n",
       "    <tr>\n",
       "      <th>3</th>\n",
       "      <td>Andorra</td>\n",
       "      <td>52.0</td>\n",
       "    </tr>\n",
       "    <tr>\n",
       "      <th>4</th>\n",
       "      <td>Angola</td>\n",
       "      <td>41.0</td>\n",
       "    </tr>\n",
       "    <tr>\n",
       "      <th>...</th>\n",
       "      <td>...</td>\n",
       "      <td>...</td>\n",
       "    </tr>\n",
       "    <tr>\n",
       "      <th>181</th>\n",
       "      <td>Vietnam</td>\n",
       "      <td>0.0</td>\n",
       "    </tr>\n",
       "    <tr>\n",
       "      <th>182</th>\n",
       "      <td>West Bank and Gaza</td>\n",
       "      <td>78.0</td>\n",
       "    </tr>\n",
       "    <tr>\n",
       "      <th>183</th>\n",
       "      <td>Western Sahara</td>\n",
       "      <td>1.0</td>\n",
       "    </tr>\n",
       "    <tr>\n",
       "      <th>184</th>\n",
       "      <td>Yemen</td>\n",
       "      <td>483.0</td>\n",
       "    </tr>\n",
       "    <tr>\n",
       "      <th>185</th>\n",
       "      <td>Zambia</td>\n",
       "      <td>140.0</td>\n",
       "    </tr>\n",
       "  </tbody>\n",
       "</table>\n",
       "<p>186 rows × 2 columns</p>\n",
       "</div>"
      ],
      "text/plain": [
       "         Country/Region  Deaths\n",
       "0           Afghanistan  1269.0\n",
       "1               Albania   144.0\n",
       "2               Algeria  1163.0\n",
       "3               Andorra    52.0\n",
       "4                Angola    41.0\n",
       "..                  ...     ...\n",
       "181             Vietnam     0.0\n",
       "182  West Bank and Gaza    78.0\n",
       "183      Western Sahara     1.0\n",
       "184               Yemen   483.0\n",
       "185              Zambia   140.0\n",
       "\n",
       "[186 rows x 2 columns]"
      ]
     },
     "execution_count": 125,
     "metadata": {},
     "output_type": "execute_result"
    }
   ],
   "source": [
    "region_deaths"
   ]
  },
  {
   "cell_type": "markdown",
   "id": "d251409b-06e0-4054-b6d5-87e9fa51b693",
   "metadata": {},
   "source": [
    "#### pie plot"
   ]
  },
  {
   "cell_type": "code",
   "execution_count": 130,
   "id": "2beec30f-587a-4a21-955b-104f3a3fe994",
   "metadata": {},
   "outputs": [
    {
     "data": {
      "image/png": "[encoded data removed]",
      "text/plain": [
       "<Figure size 800x800 with 1 Axes>"
      ]
     },
     "metadata": {},
     "output_type": "display_data"
    }
   ],
   "source": [
    "# Select the top 6 countries by number of deaths and group the rest into \"Other\" \n",
    "# to make the pie chart clearer and less cluttered\n",
    "top_countries = df.sort_values(by='Deaths', ascending=False).head(6)\n",
    "other = pd.DataFrame({\n",
    "    'Country/Region': ['Other'],\n",
    "    'Deaths': [df['Deaths'].sum() - top_countries['Deaths'].sum()]\n",
    "})\n",
    "plot_data = pd.concat([top_countries, other])\n",
    "# to make the pie chart \n",
    "plt.figure(figsize=(8,8))\n",
    "plt.pie(plot_data['Deaths'], labels=plot_data['Country/Region'], autopct='%1.1f%%', startangle=140)\n",
    "plt.title('Proportion of Deaths by Country')\n",
    "plt.show()"
   ]
  },
  {
   "cell_type": "markdown",
   "id": "a1c122a3-2ab9-4ec8-a211-7949877a1011",
   "metadata": {},
   "source": [
    "#### Bar plot "
   ]
  },
  {
   "cell_type": "code",
   "execution_count": 139,
   "id": "f7424c9e-da5e-4ad8-861a-b49a5de2204d",
   "metadata": {},
   "outputs": [
    {
     "data": {
      "image/png": "[encoded data removed]",
      "text/plain": [
       "<Figure size 1400x700 with 1 Axes>"
      ]
     },
     "metadata": {},
     "output_type": "display_data"
    }
   ],
   "source": [
    "# Creating a bar plot to compare Confirmed, Deaths, and Recovered cases \n",
    "# for the top 10 countries with the highest confirmed cases\n",
    "top10 = df.sort_values(by='Confirmed', ascending=False).head(10)\n",
    "#Defining the axes\n",
    "countries = top10['Country/Region']\n",
    "confirmed = top10['Confirmed']\n",
    "deaths = top10['Deaths']\n",
    "recovered = top10['Recovered']\n",
    "\n",
    "#Creating a bar plot\n",
    "import numpy as np\n",
    "\n",
    "x = np.arange(len(countries))\n",
    "width = 0.25\n",
    "\n",
    "plt.figure(figsize=(14,7))\n",
    "plt.bar(x - width, confirmed, width=width, color='blue', label='Confirmed')\n",
    "plt.bar(x, deaths, width=width, color='red', label='Deaths')\n",
    "plt.bar(x + width, recovered, width=width, color='green', label='Recovered')\n",
    "\n",
    "# labels\n",
    "plt.xticks(x, countries, rotation=45)\n",
    "plt.xlabel('Country')\n",
    "plt.ylabel('Number of Cases')\n",
    "plt.title('Top 10 Countries: Confirmed vs Deaths vs Recovered')\n",
    "plt.legend()\n",
    "plt.tight_layout()\n",
    "plt.show()"
   ]
  },
  {
   "cell_type": "markdown",
   "id": "7d5d0f38-a204-47cd-84f8-e7484b23d6fd",
   "metadata": {},
   "source": [
    "#### Box plot "
   ]
  },
  {
   "cell_type": "code",
   "execution_count": 153,
   "id": "788677f6-ad60-4e6e-9cc0-dff2d66b86b4",
   "metadata": {},
   "outputs": [
    {
     "data": {
      "image/png": "[encoded data removed]",
      "text/plain": [
       "<Figure size 640x480 with 1 Axes>"
      ]
     },
     "metadata": {},
     "output_type": "display_data"
    }
   ],
   "source": [
    "# This plot visualizes the distribution of COVID-19 death rates (Deaths per 100 Cases) \n",
    "# for the top 6 countries with the highest number of deaths. \n",
    "# It uses a boxplot to show the spread, median, and potential outliers of death rates,\n",
    "# allowing for a clear comparison between these countries.\n",
    "\n",
    "# Select the top 6 countries with the highest number of deaths\n",
    "top_countries = df.sort_values(by='Deaths', ascending=False).head(6)['Country/Region']\n",
    "# Filter the dataset to include only these top countries\n",
    "df_top = df[df['Country/Region'].isin(top_countries)]\n",
    "\n",
    "# Create a boxplot showing the distribution of death rates for the selected countries\n",
    "sns.boxplot(x='Country/Region', y='Deaths / 100 Cases', data=df_top)\n",
    "plt.title('Death Rate Distribution for Top 6 Countries by Deaths')\n",
    "plt.xticks(rotation=45)\n",
    "plt.show()"
   ]
  },
  {
   "cell_type": "markdown",
   "id": "2dc405c2-edca-4890-ab00-203e3103235a",
   "metadata": {},
   "source": [
    "### What is the average number of confirmed cases across all countries?"
   ]
  },
  {
   "cell_type": "code",
   "execution_count": 156,
   "id": "125948d9-5296-4286-8b7b-bb53aa4df975",
   "metadata": {},
   "outputs": [
    {
     "name": "stdout",
     "output_type": "stream",
     "text": [
      "Average confirmed cases: 88590.22043010753\n"
     ]
    }
   ],
   "source": [
    "avg_confirmed = df['Confirmed'].mean()\n",
    "print(\"Average confirmed cases:\", avg_confirmed)"
   ]
  },
  {
   "cell_type": "markdown",
   "id": "215cb363-af6e-4c1f-a942-8ff49705b1b3",
   "metadata": {},
   "source": [
    "### What is the total number of cases (Confirmed, Deaths, Recovered) globally?"
   ]
  },
  {
   "cell_type": "code",
   "execution_count": 175,
   "id": "f299cb9e-b154-4844-b5b0-93fc189140c9",
   "metadata": {},
   "outputs": [
    {
     "name": "stdout",
     "output_type": "stream",
     "text": [
      "Global totals Confirmed: 16477781\n",
      "Global totals Deaths: 654000.0\n",
      "Global totals Recovered: 9467545.0\n"
     ]
    }
   ],
   "source": [
    "total_confirmed = df['Confirmed'].sum()\n",
    "total_deaths = df['Deaths'].sum()\n",
    "total_recovered = df['Recovered'].sum()\n",
    "print(\"Global totals Confirmed:\", total_confirmed)\n",
    "print(\"Global totals Deaths:\", total_deaths)\n",
    "print(\"Global totals Recovered:\", total_recovered)"
   ]
  },
  {
   "cell_type": "markdown",
   "id": "1a03e787-95af-4af3-bd60-7bf266cd64c8",
   "metadata": {},
   "source": [
    "### What is the highest number of recoveries reported ?"
   ]
  },
  {
   "cell_type": "code",
   "execution_count": 178,
   "id": "f5bc42cc-b56a-4840-82d6-a159f1972d03",
   "metadata": {},
   "outputs": [
    {
     "name": "stdout",
     "output_type": "stream",
     "text": [
      "Highest number of recoveries 1846641.0\n"
     ]
    }
   ],
   "source": [
    "max_recovered = df['Recovered'].max()\n",
    "print(\"Highest number of recoveries\", max_recovered)"
   ]
  },
  {
   "cell_type": "markdown",
   "id": "5964c263-7815-4c92-95e6-075bfa934b23",
   "metadata": {},
   "source": [
    "### What is the percentage of deaths out of the total confirmed cases?"
   ]
  },
  {
   "cell_type": "code",
   "execution_count": 159,
   "id": "895510fb-2dc4-4f24-9dc5-acde55009c68",
   "metadata": {},
   "outputs": [
    {
     "name": "stdout",
     "output_type": "stream",
     "text": [
      "Global Death Rate (%): 3.968981017528998\n"
     ]
    }
   ],
   "source": [
    "tot_death_rate = (df['Deaths'].sum() / df['Confirmed'].sum()) * 100\n",
    "print(\"Global Death Rate (%):\", tot_death_rate)"
   ]
  },
  {
   "cell_type": "markdown",
   "id": "125f6309-b94d-4627-9eb1-38a510aee9d2",
   "metadata": {},
   "source": [
    "### Which Country/Region has the highest average number of deaths per reported entry?"
   ]
  },
  {
   "cell_type": "code",
   "execution_count": 162,
   "id": "ddf564c2-39c7-4ab9-9a75-4dd528bc037d",
   "metadata": {},
   "outputs": [
    {
     "name": "stdout",
     "output_type": "stream",
     "text": [
      "Country/Region with the highest average number of deaths per reported entry: US\n",
      "Average deaths: 148011.0\n"
     ]
    }
   ],
   "source": [
    "# Calculate the average number of deaths per reported entry for each country\n",
    "avg_deaths_by_country = df.groupby('Country/Region')['Deaths'].mean()\n",
    "\n",
    "# Find the country with the highest average deaths\n",
    "highest_avg_deaths_country = avg_deaths_by_country.idxmax()\n",
    "highest_avg_deaths_value = avg_deaths_by_country.max()\n",
    "\n",
    "print(\"Country/Region with the highest average number of deaths per reported entry:\", highest_avg_deaths_country)\n",
    "print(\"Average deaths:\", highest_avg_deaths_value)"
   ]
  },
  {
   "cell_type": "markdown",
   "id": "034d49d1-486a-45e3-84b8-2e93dd06f5a3",
   "metadata": {},
   "source": [
    "### Which countries have the highest average active cases?"
   ]
  },
  {
   "cell_type": "code",
   "execution_count": 164,
   "id": "a0058a9a-bbfe-4a34-b718-2ff81ee75c8f",
   "metadata": {},
   "outputs": [
    {
     "name": "stdout",
     "output_type": "stream",
     "text": [
      "\n",
      "Average Active Cases by Country:\n",
      "Country/Region\n",
      "Afghanistan           9796.0\n",
      "Albania               1991.0\n",
      "Algeria               7973.0\n",
      "Andorra                 52.0\n",
      "Angola                 667.0\n",
      "                       ...  \n",
      "Vietnam                 66.0\n",
      "West Bank and Gaza    6791.0\n",
      "Western Sahara           1.0\n",
      "Yemen                  375.0\n",
      "Zambia                1597.0\n",
      "Name: Active Cases, Length: 186, dtype: float64\n"
     ]
    }
   ],
   "source": [
    "df['Active Cases'] = df['Confirmed'] - df['Deaths'] - df['Recovered']\n",
    "country_active_avg = df.groupby('Country/Region')['Active Cases'].mean()\n",
    "print(\"\\nAverage Active Cases by Country:\")\n",
    "print(country_active_avg)"
   ]
  },
  {
   "cell_type": "markdown",
   "id": "5df34e18-e109-4901-958b-ce61df46107e",
   "metadata": {},
   "source": [
    "### Which country has the highest number of confirmed cases compared to others?"
   ]
  },
  {
   "cell_type": "code",
   "execution_count": 212,
   "id": "22682057-29be-4c62-9b4f-4d35a08f5ed9",
   "metadata": {},
   "outputs": [
    {
     "name": "stdout",
     "output_type": "stream",
     "text": [
      "Country with the highest number of confirmed cases: US\n",
      "Number of confirmed cases: 4290259\n"
     ]
    },
    {
     "data": {
      "image/png": "[encoded data removed]",
      "text/plain": [
       "<Figure size 1200x600 with 1 Axes>"
      ]
     },
     "metadata": {},
     "output_type": "display_data"
    }
   ],
   "source": [
    "# Grouping the data by country and summing confirmed cases\r\n",
    "country_confirmed = df.groupby('Country/Region')['Confirmed'].sum()\r\n",
    "\r\n",
    "# Finding the country with the highest confirmed cases\r\n",
    "top_country = country_confirmed.idxmax()\r\n",
    "top_cases = country_confirmed.max()\r\n",
    "\r\n",
    "print(\"Country with the highest number of confirmed cases:\", top_country)\r\n",
    "print(\"Number of confirmed cases:\", top_cases)\r\n",
    "\r\n",
    "# Optional: Create a bar plot for visualization of top 10 countries\r\n",
    "top10 = country_confirmed.sort_values(ascending=False).head(10)\r\n",
    "top10.plot(kind='bar', color='skyblue', figsize=(12,6))\r\n",
    "plt.title('Top 10 Countries by Confirmed COVID-19 Cases')\r\n",
    "plt.ylabel('Confirmed Cases')\r\n",
    "plt.xticks(rotation=45)\r\n",
    "plt.show()\r\n"
   ]
  },
  {
   "cell_type": "markdown",
   "id": "cd92576d-3e8c-4620-bd1a-9b9842b26da4",
   "metadata": {},
   "source": [
    "### What is the overall correlation between 'Confirmed', 'Deaths', 'Recovered'?"
   ]
  },
  {
   "cell_type": "code",
   "execution_count": 170,
   "id": "6edb9e2c-0e62-4014-907a-16ded931f92a",
   "metadata": {},
   "outputs": [
    {
     "name": "stdout",
     "output_type": "stream",
     "text": [
      "\n",
      "Correlation for: \n",
      "           Confirmed   Deaths  Recovered\n",
      "Confirmed   1.000000  0.93468   0.906351\n",
      "Deaths      0.934680  1.00000   0.832040\n",
      "Recovered   0.906351  0.83204   1.000000\n"
     ]
    }
   ],
   "source": [
    "# Calculate the correlation matrix between Confirmed, Deaths, and Recovered cases\n",
    "correlation_matrix = df[['Confirmed', 'Deaths', 'Recovered']].corr()\n",
    "print(\"\\nCorrelation for: \")\n",
    "print(correlation_matrix)"
   ]
  },
  {
   "cell_type": "markdown",
   "id": "7e3a9bfa-2d15-4f90-a73d-e7a8c44e9741",
   "metadata": {},
   "source": [
    "### Are there any countries with unusually high death rates compared to their confirmed cases?"
   ]
  },
  {
   "cell_type": "code",
   "execution_count": 228,
   "id": "a5d09020-41dc-4916-9097-68ff7920c350",
   "metadata": {},
   "outputs": [
    {
     "name": "stdout",
     "output_type": "stream",
     "text": [
      "Country/Region\n",
      "Brunei            0.0\n",
      "Holy See          0.0\n",
      "Dominica          0.0\n",
      "Grenada           0.0\n",
      "San Marino        0.0\n",
      "Laos              1.0\n",
      "Greenland         1.0\n",
      "Western Sahara    1.0\n",
      "Mauritius         2.0\n",
      "Saint Lucia       2.0\n",
      "Name: Active Cases, dtype: float64\n"
     ]
    }
   ],
   "source": [
    "df['Active Cases'] = df['Confirmed'] - df['Deaths'] - df['Recovered']\n",
    "low_active = df.groupby('Country/Region')['Active Cases'].mean().sort_values().head(10)\n",
    "print(low_active)"
   ]
  },
  {
   "cell_type": "markdown",
   "id": "e659deea-83c9-4876-84f4-bb554471d791",
   "metadata": {},
   "source": [
    "### Which countries show unusually high recovery rates compared to deaths?"
   ]
  },
  {
   "cell_type": "code",
   "execution_count": 231,
   "id": "ab54bcd7-ceea-4f73-81be-1f4418cca138",
   "metadata": {},
   "outputs": [
    {
     "name": "stdout",
     "output_type": "stream",
     "text": [
      "Country/Region\n",
      "Holy See       100.000000\n",
      "Grenada        100.000000\n",
      "Dominica       100.000000\n",
      "Djibouti        98.379126\n",
      "Iceland         98.327940\n",
      "Brunei          97.872340\n",
      "New Zealand     97.238279\n",
      "Qatar           97.017254\n",
      "Malaysia        96.597035\n",
      "Mauritius       96.511628\n",
      "Name: Recovery Rate (%), dtype: float64\n"
     ]
    }
   ],
   "source": [
    "df['Recovery Rate (%)'] = (df['Recovered'] / df['Confirmed']) * 100\n",
    "high_recovery = df.groupby('Country/Region')['Recovery Rate (%)'].mean().sort_values(ascending=False).head(10)\n",
    "print(high_recovery)"
   ]
  },
  {
   "cell_type": "markdown",
   "id": "78db4572-4df4-46bb-88ff-a2a1afd26c0c",
   "metadata": {},
   "source": [
    "### How have confirmed cases changed over time in the top 3 most affected countries?"
   ]
  },
  {
   "cell_type": "code",
   "execution_count": 242,
   "id": "88179afe-d132-490a-a3b1-1db62522e658",
   "metadata": {},
   "outputs": [
    {
     "name": "stdout",
     "output_type": "stream",
     "text": [
      "\n",
      "Confirmed cases over time for US:\n",
      "0    4290259\n",
      "Name: Confirmed, dtype: int64\n",
      "\n",
      "Confirmed cases over time for Brazil:\n",
      "0    2442375\n",
      "Name: Confirmed, dtype: int64\n",
      "\n",
      "Confirmed cases over time for India:\n",
      "0    1480073\n",
      "Name: Confirmed, dtype: int64\n"
     ]
    }
   ],
   "source": [
    "top_countries = df.groupby('Country/Region')['Confirmed'].sum().sort_values(ascending=False).head(3).index\n",
    "\n",
    "for country in top_countries:\n",
    "    country_data = df[df['Country/Region'] == country]\n",
    "    print(f\"\\nConfirmed cases over time for {country}:\")\n",
    "    print(country_data['Confirmed'].reset_index(drop=True))\n"
   ]
  },
  {
   "cell_type": "markdown",
   "id": "d6a14b62-2054-467e-8ae7-39d588c088d2",
   "metadata": {},
   "source": [
    "### Which countries have the highest ratio of deaths to recoveries"
   ]
  },
  {
   "cell_type": "code",
   "execution_count": 245,
   "id": "b3b38818-02b8-4e43-b031-d65291442279",
   "metadata": {},
   "outputs": [
    {
     "name": "stdout",
     "output_type": "stream",
     "text": [
      "Country/Region\n",
      "Canada                  inf\n",
      "Syria                   inf\n",
      "Serbia                  inf\n",
      "Mozambique              inf\n",
      "Sweden                  inf\n",
      "Netherlands       32.592593\n",
      "United Kingdom    31.902575\n",
      "Yemen              0.579832\n",
      "Belgium            0.562801\n",
      "France             0.372014\n",
      "Name: Death/Recovery Ratio, dtype: float64\n"
     ]
    }
   ],
   "source": [
    "df['Death/Recovery Ratio'] = df['Deaths'] / df['Recovered']\n",
    "ratio_top = df.groupby('Country/Region')['Death/Recovery Ratio'].mean().sort_values(ascending=False).head(10)\n",
    "print(ratio_top)"
   ]
  },
  {
   "cell_type": "code",
   "execution_count": null,
   "id": "3b770684-61f3-4800-90b5-486813ae561f",
   "metadata": {},
   "outputs": [],
   "source": []
  }
 ],
 "metadata": {
  "kernelspec": {
   "display_name": "Python 3 (ipykernel)",
   "language": "python",
   "name": "python3"
  },
  "language_info": {
   "codemirror_mode": {
    "name": "ipython",
    "version": 3
   },
   "file_extension": ".py",
   "mimetype": "text/x-python",
   "name": "python",
   "nbconvert_exporter": "python",
   "pygments_lexer": "ipython3",
   "version": "3.12.4"
  }
 },
 "nbformat": 4,
 "nbformat_minor": 5
}
